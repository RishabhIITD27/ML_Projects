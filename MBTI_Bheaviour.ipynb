{
 "cells": [
  {
   "cell_type": "code",
   "execution_count": 1,
   "id": "ae49097d-84dd-4ae4-85cb-7eabfa1c3998",
   "metadata": {},
   "outputs": [],
   "source": [
    "%matplotlib inline\n",
    "import re\n",
    "import numpy as np\n",
    "import pandas as pd\n",
    "import matplotlib.pyplot as plt\n",
    "import seaborn as sns\n",
    "import plotly.offline as py\n",
    "from bs4 import BeautifulSoup\n",
    "from sklearn.model_selection import cross_validate, StratifiedKFold\n",
    "from sklearn.feature_extraction.text import TfidfVectorizer\n",
    "from sklearn.pipeline import Pipeline\n",
    "from sklearn.naive_bayes import MultinomialNB\n",
    "from sklearn.linear_model import LogisticRegression\n",
    "from sklearn.ensemble import ExtraTreesClassifier\n",
    "from sklearn.metrics import make_scorer, accuracy_score, log_loss, f1_score\n",
    "from sklearn.decomposition import TruncatedSVD\n",
    "from sklearn.model_selection import learning_curve\n"
   ]
  },
  {
   "cell_type": "code",
   "execution_count": 2,
   "id": "536324ae-1098-40f8-aed4-daabd52ddf72",
   "metadata": {},
   "outputs": [
    {
     "data": {
      "text/html": [
       "        <script type=\"text/javascript\">\n",
       "        window.PlotlyConfig = {MathJaxConfig: 'local'};\n",
       "        if (window.MathJax && window.MathJax.Hub && window.MathJax.Hub.Config) {window.MathJax.Hub.Config({SVG: {font: \"STIX-Web\"}});}\n",
       "        if (typeof require !== 'undefined') {\n",
       "        require.undef(\"plotly\");\n",
       "        requirejs.config({\n",
       "            paths: {\n",
       "                'plotly': ['https://cdn.plot.ly/plotly-2.34.0.min']\n",
       "            }\n",
       "        });\n",
       "        require(['plotly'], function(Plotly) {\n",
       "            window._Plotly = Plotly;\n",
       "        });\n",
       "        }\n",
       "        </script>\n",
       "        "
      ]
     },
     "metadata": {},
     "output_type": "display_data"
    }
   ],
   "source": [
    "# Initialize Plotly notebook mode\n",
    "py.init_notebook_mode(connected=True)"
   ]
  },
  {
   "cell_type": "code",
   "execution_count": 3,
   "id": "66303275-1920-47be-8fcd-1eead779e1c7",
   "metadata": {},
   "outputs": [],
   "source": [
    "# Load dataset\n",
    "data_set = pd.read_csv(\"C:\\\\Users\\\\HP\\\\Desktop\\\\jupyter projects\\\\mbti_1.csv\")"
   ]
  },
  {
   "cell_type": "code",
   "execution_count": 4,
   "id": "83f0324a-cafd-48e8-9f0d-1ce6c9f5f63d",
   "metadata": {},
   "outputs": [],
   "source": [
    "# Define MBTI mapping\n",
    "mbti = {\n",
    "    'I': 'Introversion',\n",
    "    'E': 'Extroversion',\n",
    "    'N': 'Intuition',\n",
    "    'S': 'Sensing',\n",
    "    'T': 'Thinking',\n",
    "    'F': 'Feeling',\n",
    "    'J': 'Judging',\n",
    "    'P': 'Perceiving'\n",
    "}"
   ]
  },
  {
   "cell_type": "code",
   "execution_count": 5,
   "id": "a5fe07d5-3433-480c-8462-81107f3cb48e",
   "metadata": {},
   "outputs": [
    {
     "name": "stdout",
     "output_type": "stream",
     "text": [
      "(8675, 2)\n"
     ]
    }
   ],
   "source": [
    "# Check dataset shape\n",
    "print(data_set.shape)"
   ]
  },
  {
   "cell_type": "code",
   "execution_count": 6,
   "id": "d739dba8-ca33-4a13-a873-546107e66d80",
   "metadata": {},
   "outputs": [
    {
     "data": {
      "image/png": "[encoded data removed]",
      "text/plain": [
       "<Figure size 1200x400 with 1 Axes>"
      ]
     },
     "metadata": {},
     "output_type": "display_data"
    }
   ],
   "source": [
    "# Plot the distribution of types\n",
    "cnt_srs = data_set['type'].value_counts()\n",
    "plt.figure(figsize=(12, 4))\n",
    "sns.barplot(x=cnt_srs.index, y=cnt_srs.values, alpha=0.8)\n",
    "plt.ylabel(\"Number of occurrences\", fontsize=13)\n",
    "plt.xlabel(\"Types\", fontsize=13)\n",
    "plt.show()"
   ]
  },
  {
   "cell_type": "code",
   "execution_count": 7,
   "id": "36960a74-fa0d-4e13-a96a-3a1bec0c94b9",
   "metadata": {},
   "outputs": [],
   "source": [
    "# Define text cleaning function\n",
    "def cleanText(text):\n",
    "    text = BeautifulSoup(text, \"lxml\").text\n",
    "    text = re.sub(r'\\|\\|\\|', r'', text)\n",
    "    text = re.sub(r'http\\S+', r'<URL>', text)\n",
    "    return text"
   ]
  },
  {
   "cell_type": "code",
   "execution_count": 8,
   "id": "8a61121f-fc25-4f8c-9fdf-81d1174b2006",
   "metadata": {},
   "outputs": [
    {
     "name": "stderr",
     "output_type": "stream",
     "text": [
      "C:\\Users\\HP\\AppData\\Local\\Temp\\ipykernel_7324\\1272902295.py:3: MarkupResemblesLocatorWarning:\n",
      "\n",
      "The input looks more like a filename than markup. You may want to open this file and pass the filehandle into Beautiful Soup.\n",
      "\n"
     ]
    }
   ],
   "source": [
    "# Apply text cleaning\n",
    "data_set['clean_posts'] = data_set['posts'].apply(cleanText)\n"
   ]
  },
  {
   "cell_type": "code",
   "execution_count": 9,
   "id": "197fde9f-ed1d-4ebd-b34b-abef484f70c2",
   "metadata": {},
   "outputs": [],
   "source": [
    "# Define scoring metrics\n",
    "scoring = {\n",
    "    'accuracy': make_scorer(accuracy_score),\n",
    "    'neg_log_loss': make_scorer(log_loss, greater_is_better=False),\n",
    "    'f1_micro': make_scorer(f1_score, average='micro')\n",
    "}"
   ]
  },
  {
   "cell_type": "code",
   "execution_count": 10,
   "id": "37455ddd-8e9d-4635-93b9-6fdc712e61c0",
   "metadata": {},
   "outputs": [],
   "source": [
    "# Initialize models and pipelines\n",
    "tfidf = TfidfVectorizer(ngram_range=(1, 1), stop_words=\"english\")\n",
    "tsvd = TruncatedSVD(n_components=10)\n",
    "etc = ExtraTreesClassifier(n_estimators=20, max_depth=4, n_jobs=-1)\n",
    "\n",
    "model_et = Pipeline([\n",
    "    ('tfidf', tfidf),\n",
    "    ('tsvd', tsvd),\n",
    "    ('etc', etc)\n",
    "])\n",
    "\n",
    "nb = MultinomialNB()\n",
    "model_nb = Pipeline([\n",
    "    ('tfidf', tfidf),\n",
    "    ('nb', nb)\n",
    "])\n",
    "\n",
    "lr = LogisticRegression(max_iter=1000)\n",
    "model_lr = Pipeline([\n",
    "    ('tfidf', tfidf),\n",
    "    ('lr', lr)\n",
    "])"
   ]
  },
  {
   "cell_type": "code",
   "execution_count": 11,
   "id": "4cb0119b-6973-439b-b5ca-0e2defd81eff",
   "metadata": {},
   "outputs": [],
   "source": [
    "# Initialize StratifiedKFold cross-validator\n",
    "Kfolds = StratifiedKFold(n_splits=5, shuffle=True, random_state=1)"
   ]
  },
  {
   "cell_type": "code",
   "execution_count": 12,
   "id": "5d9898dd-5d72-41d3-b0e8-4f7abb5b7722",
   "metadata": {},
   "outputs": [
    {
     "name": "stdout",
     "output_type": "stream",
     "text": [
      "CV Accuracy (ExtraTrees): 0.2949 (+/- 0.0107)\n",
      "CV F1 (ExtraTrees): 0.2949 (+/- 0.0107)\n",
      "CV Logloss (ExtraTrees): nan (+/- nan)\n"
     ]
    }
   ],
   "source": [
    "# Perform cross-validation with ExtraTreesClassifier\n",
    "if len(data_set) > 5:\n",
    "    X = data_set['posts']\n",
    "    y = data_set['type']\n",
    "    results_et = cross_validate(model_et, X, y, cv=Kfolds, scoring=scoring, n_jobs=-1)\n",
    "    print(\"CV Accuracy (ExtraTrees): {:0.4f} (+/- {:0.4f})\".format(np.mean(results_et['test_accuracy']), np.std(results_et['test_accuracy'])))\n",
    "    print(\"CV F1 (ExtraTrees): {:0.4f} (+/- {:0.4f})\".format(np.mean(results_et['test_f1_micro']), np.std(results_et['test_f1_micro'])))\n",
    "    print(\"CV Logloss (ExtraTrees): {:0.4f} (+/- {:0.4f})\".format(np.mean(results_et['test_neg_log_loss']), np.std(results_et['test_neg_log_loss'])))\n",
    "else:\n",
    "    print(\"Insufficient data for cross-validation with ExtraTrees.\")"
   ]
  },
  {
   "cell_type": "code",
   "execution_count": 13,
   "id": "ffcd8849-5d58-434e-827b-2baa3eeb2d11",
   "metadata": {},
   "outputs": [
    {
     "name": "stdout",
     "output_type": "stream",
     "text": [
      "CV Accuracy (MultinomialNB): 0.2114 (+/- 0.0002)\n",
      "CV F1 (MultinomialNB): 0.2114 (+/- 0.0002)\n",
      "CV Logloss (MultinomialNB): nan (+/- nan)\n"
     ]
    }
   ],
   "source": [
    "# Perform cross-validation with MultinomialNB\n",
    "if len(data_set) > 5:\n",
    "    X = data_set['posts']\n",
    "    y = data_set['type']\n",
    "    try:\n",
    "        results_nb = cross_validate(model_nb, X, y, cv=Kfolds, scoring=scoring, n_jobs=-1)\n",
    "        print(\"CV Accuracy (MultinomialNB): {:0.4f} (+/- {:0.4f})\".format(np.mean(results_nb['test_accuracy']), np.std(results_nb['test_accuracy'])))\n",
    "        print(\"CV F1 (MultinomialNB): {:0.4f} (+/- {:0.4f})\".format(np.mean(results_nb['test_f1_micro']), np.std(results_nb['test_f1_micro'])))\n",
    "        print(\"CV Logloss (MultinomialNB): {:0.4f} (+/- {:0.4f})\".format(np.mean(results_nb['test_neg_log_loss']), np.std(results_nb['test_neg_log_loss'])))\n",
    "    except ValueError as e:\n",
    "        print(\"Error during cross-validation with MultinomialNB:\", e)\n",
    "else:\n",
    "    print(\"Insufficient data for cross-validation with MultinomialNB.\")\n"
   ]
  },
  {
   "cell_type": "code",
   "execution_count": 14,
   "id": "b1a044b0-e896-42f1-be12-52b75f109dcc",
   "metadata": {},
   "outputs": [
    {
     "name": "stdout",
     "output_type": "stream",
     "text": [
      "CV Accuracy (LogisticRegression): 0.6378 (+/- 0.0119)\n",
      "CV F1 (LogisticRegression): 0.6378 (+/- 0.0119)\n",
      "CV Logloss (LogisticRegression): nan (+/- nan)\n"
     ]
    }
   ],
   "source": [
    "# Perform cross-validation with LogisticRegression\n",
    "if len(data_set) > 5:\n",
    "    X = data_set['posts']\n",
    "    y = data_set['type']\n",
    "    try:\n",
    "        results_lr = cross_validate(model_lr, X, y, cv=Kfolds, scoring=scoring, n_jobs=-1)\n",
    "        print(\"CV Accuracy (LogisticRegression): {:0.4f} (+/- {:0.4f})\".format(np.mean(results_lr['test_accuracy']), np.std(results_lr['test_accuracy'])))\n",
    "        print(\"CV F1 (LogisticRegression): {:0.4f} (+/- {:0.4f})\".format(np.mean(results_lr['test_f1_micro']), np.std(results_lr['test_f1_micro'])))\n",
    "        print(\"CV Logloss (LogisticRegression): {:0.4f} (+/- {:0.4f})\".format(np.mean(results_lr['test_neg_log_loss']), np.std(results_lr['test_neg_log_loss'])))\n",
    "    except ValueError as e:\n",
    "        print(\"Error during cross-validation with LogisticRegression:\", e)\n",
    "else:\n",
    "    print(\"Insufficient data for cross-validation with LogisticRegression.\")"
   ]
  },
  {
   "cell_type": "code",
   "execution_count": null,
   "id": "628255e2-c235-45a1-95d3-1fb111565908",
   "metadata": {},
   "outputs": [],
   "source": [
    "# Compute learning curve for LogisticRegression\n",
    "train_sizes, train_scores, test_scores = learning_curve(model_lr, X, y, cv=Kfolds, n_jobs=-1, scoring='f1_micro', train_sizes=np.linspace(.1, 1.0, 10, endpoint=True))\n"
   ]
  },
  {
   "cell_type": "code",
   "execution_count": null,
   "id": "7e7b8d62-6182-4ac2-8660-54d42692bea7",
   "metadata": {},
   "outputs": [],
   "source": [
    "# Plot learning curve\n",
    "def plot_learning_curve(X, y, train_sizes, train_scores, test_scores, title=\"Learning Curve\", ylim=None, figsize=(14, 8)):\n",
    "    plt.figure(figsize=figsize)\n",
    "    plt.title(title)\n",
    "    \n",
    "    if ylim is not None:\n",
    "        plt.ylim(*ylim)\n",
    "        \n",
    "    plt.xlabel('Training examples')\n",
    "    plt.ylabel(\"Score\")\n",
    "    \n",
    "    train_scores_mean = np.mean(train_scores, axis=1)\n",
    "    train_scores_std = np.std(train_scores, axis=1)\n",
    "    test_scores_mean = np.mean(test_scores, axis=1)\n",
    "    test_scores_std = np.std(test_scores, axis=1)\n",
    "    \n",
    "    plt.grid()\n",
    "    plt.fill_between(train_sizes, train_scores_mean - train_scores_std, train_scores_mean + train_scores_std, alpha=0.1, color=\"r\")\n",
    "    plt.fill_between(train_sizes, test_scores_mean - test_scores_std, test_scores_mean + test_scores_std, alpha=0.1, color=\"g\")\n",
    "    plt.plot(train_sizes, train_scores_mean, 'o-', color=\"r\", label=\"Training score\")\n",
    "    plt.plot(train_sizes, test_scores_mean, 'o-', color=\"g\", label=\"Cross-validation score\")\n",
    "    plt.legend(loc=\"best\")\n",
    "    plt.show()\n",
    "\n",
    "plot_learning_curve(X, y, train_sizes, train_scores, test_scores, ylim=(0.1, 1.01), figsize=(13, 6))\n"
   ]
  },
  {
   "cell_type": "code",
   "execution_count": null,
   "id": "9cb70bbc-b907-4316-84f1-0d34334eda53",
   "metadata": {},
   "outputs": [],
   "source": [
    "# Apply text cleaning to new dataset\n",
    "ps_join = pd.read_csv('C:\\\\Users\\\\HP\\\\Desktop\\\\jupyter projects\\\\mbti_1.csv')  # Replace with the path to your CSV file\n",
    "ps_join['clean_comments'] = ps_join['posts'].apply(cleanText)"
   ]
  },
  {
   "cell_type": "code",
   "execution_count": 18,
   "id": "50d8eff4-7595-4db6-9dfa-43a04079e701",
   "metadata": {},
   "outputs": [
    {
     "data": {
      "text/html": [
       "<style>#sk-container-id-1 {color: black;background-color: white;}#sk-container-id-1 pre{padding: 0;}#sk-container-id-1 div.sk-toggleable {background-color: white;}#sk-container-id-1 label.sk-toggleable__label {cursor: pointer;display: block;width: 100%;margin-bottom: 0;padding: 0.3em;box-sizing: border-box;text-align: center;}#sk-container-id-1 label.sk-toggleable__label-arrow:before {content: \"▸\";float: left;margin-right: 0.25em;color: #696969;}#sk-container-id-1 label.sk-toggleable__label-arrow:hover:before {color: black;}#sk-container-id-1 div.sk-estimator:hover label.sk-toggleable__label-arrow:before {color: black;}#sk-container-id-1 div.sk-toggleable__content {max-height: 0;max-width: 0;overflow: hidden;text-align: left;background-color: #f0f8ff;}#sk-container-id-1 div.sk-toggleable__content pre {margin: 0.2em;color: black;border-radius: 0.25em;background-color: #f0f8ff;}#sk-container-id-1 input.sk-toggleable__control:checked~div.sk-toggleable__content {max-height: 200px;max-width: 100%;overflow: auto;}#sk-container-id-1 input.sk-toggleable__control:checked~label.sk-toggleable__label-arrow:before {content: \"▾\";}#sk-container-id-1 div.sk-estimator input.sk-toggleable__control:checked~label.sk-toggleable__label {background-color: #d4ebff;}#sk-container-id-1 div.sk-label input.sk-toggleable__control:checked~label.sk-toggleable__label {background-color: #d4ebff;}#sk-container-id-1 input.sk-hidden--visually {border: 0;clip: rect(1px 1px 1px 1px);clip: rect(1px, 1px, 1px, 1px);height: 1px;margin: -1px;overflow: hidden;padding: 0;position: absolute;width: 1px;}#sk-container-id-1 div.sk-estimator {font-family: monospace;background-color: #f0f8ff;border: 1px dotted black;border-radius: 0.25em;box-sizing: border-box;margin-bottom: 0.5em;}#sk-container-id-1 div.sk-estimator:hover {background-color: #d4ebff;}#sk-container-id-1 div.sk-parallel-item::after {content: \"\";width: 100%;border-bottom: 1px solid gray;flex-grow: 1;}#sk-container-id-1 div.sk-label:hover label.sk-toggleable__label {background-color: #d4ebff;}#sk-container-id-1 div.sk-serial::before {content: \"\";position: absolute;border-left: 1px solid gray;box-sizing: border-box;top: 0;bottom: 0;left: 50%;z-index: 0;}#sk-container-id-1 div.sk-serial {display: flex;flex-direction: column;align-items: center;background-color: white;padding-right: 0.2em;padding-left: 0.2em;position: relative;}#sk-container-id-1 div.sk-item {position: relative;z-index: 1;}#sk-container-id-1 div.sk-parallel {display: flex;align-items: stretch;justify-content: center;background-color: white;position: relative;}#sk-container-id-1 div.sk-item::before, #sk-container-id-1 div.sk-parallel-item::before {content: \"\";position: absolute;border-left: 1px solid gray;box-sizing: border-box;top: 0;bottom: 0;left: 50%;z-index: -1;}#sk-container-id-1 div.sk-parallel-item {display: flex;flex-direction: column;z-index: 1;position: relative;background-color: white;}#sk-container-id-1 div.sk-parallel-item:first-child::after {align-self: flex-end;width: 50%;}#sk-container-id-1 div.sk-parallel-item:last-child::after {align-self: flex-start;width: 50%;}#sk-container-id-1 div.sk-parallel-item:only-child::after {width: 0;}#sk-container-id-1 div.sk-dashed-wrapped {border: 1px dashed gray;margin: 0 0.4em 0.5em 0.4em;box-sizing: border-box;padding-bottom: 0.4em;background-color: white;}#sk-container-id-1 div.sk-label label {font-family: monospace;font-weight: bold;display: inline-block;line-height: 1.2em;}#sk-container-id-1 div.sk-label-container {text-align: center;}#sk-container-id-1 div.sk-container {/* jupyter's `normalize.less` sets `[hidden] { display: none; }` but bootstrap.min.css set `[hidden] { display: none !important; }` so we also need the `!important` here to be able to override the default hidden behavior on the sphinx rendered scikit-learn.org. See: https://github.com/scikit-learn/scikit-learn/issues/21755 */display: inline-block !important;position: relative;}#sk-container-id-1 div.sk-text-repr-fallback {display: none;}</style><div id=\"sk-container-id-1\" class=\"sk-top-container\"><div class=\"sk-text-repr-fallback\"><pre>Pipeline(steps=[(&#x27;tfidf&#x27;, TfidfVectorizer()),\n",
       "                (&#x27;lr&#x27;, LogisticRegression(max_iter=1000))])</pre><b>In a Jupyter environment, please rerun this cell to show the HTML representation or trust the notebook. <br />On GitHub, the HTML representation is unable to render, please try loading this page with nbviewer.org.</b></div><div class=\"sk-container\" hidden><div class=\"sk-item sk-dashed-wrapped\"><div class=\"sk-label-container\"><div class=\"sk-label sk-toggleable\"><input class=\"sk-toggleable__control sk-hidden--visually\" id=\"sk-estimator-id-1\" type=\"checkbox\" ><label for=\"sk-estimator-id-1\" class=\"sk-toggleable__label sk-toggleable__label-arrow\">Pipeline</label><div class=\"sk-toggleable__content\"><pre>Pipeline(steps=[(&#x27;tfidf&#x27;, TfidfVectorizer()),\n",
       "                (&#x27;lr&#x27;, LogisticRegression(max_iter=1000))])</pre></div></div></div><div class=\"sk-serial\"><div class=\"sk-item\"><div class=\"sk-estimator sk-toggleable\"><input class=\"sk-toggleable__control sk-hidden--visually\" id=\"sk-estimator-id-2\" type=\"checkbox\" ><label for=\"sk-estimator-id-2\" class=\"sk-toggleable__label sk-toggleable__label-arrow\">TfidfVectorizer</label><div class=\"sk-toggleable__content\"><pre>TfidfVectorizer()</pre></div></div></div><div class=\"sk-item\"><div class=\"sk-estimator sk-toggleable\"><input class=\"sk-toggleable__control sk-hidden--visually\" id=\"sk-estimator-id-3\" type=\"checkbox\" ><label for=\"sk-estimator-id-3\" class=\"sk-toggleable__label sk-toggleable__label-arrow\">LogisticRegression</label><div class=\"sk-toggleable__content\"><pre>LogisticRegression(max_iter=1000)</pre></div></div></div></div></div></div></div>"
      ],
      "text/plain": [
       "Pipeline(steps=[('tfidf', TfidfVectorizer()),\n",
       "                ('lr', LogisticRegression(max_iter=1000))])"
      ]
     },
     "execution_count": 18,
     "metadata": {},
     "output_type": "execute_result"
    }
   ],
   "source": [
    "# Initialize and train the model\n",
    "pipeline = Pipeline([\n",
    "    ('tfidf', TfidfVectorizer()),\n",
    "    ('lr', LogisticRegression(max_iter=1000))\n",
    "])\n",
    "pipeline.fit(data_set['clean_posts'], data_set['type'])"
   ]
  },
  {
   "cell_type": "code",
   "execution_count": 19,
   "id": "f5680d14-5769-48c7-9562-246e3d4515f2",
   "metadata": {},
   "outputs": [],
   "source": [
    "# Predict using the cleaned comments\n",
    "pred_all = pipeline.predict(ps_join['clean_comments'])\n",
    "\n",
    "# Plot the distribution of predicted personalities\n",
    "cnt_all = np.unique(pred_all, return_counts=True)\n",
    "pred_df = pd.DataFrame({'personality': cnt_all[0], 'count': cnt_all[1]}, columns=['personality', 'count'])\n",
    "pred_df.sort_values('count', ascending=False, inplace=True)\n",
    "pred_df['percent'] = pred_df['count'] / pred_df['count'].sum()"
   ]
  },
  {
   "cell_type": "code",
   "execution_count": 20,
   "id": "747c214a-7a35-41d3-b0b5-153060280e72",
   "metadata": {},
   "outputs": [
    {
     "data": {
      "image/png": "[encoded data removed]",
      "text/plain": [
       "<Figure size 1200x600 with 1 Axes>"
      ]
     },
     "metadata": {},
     "output_type": "display_data"
    },
    {
     "name": "stdout",
     "output_type": "stream",
     "text": [
      "   personality  count   percent                                 description\n",
      "6         INFP   2559  0.294986   Introversion Intuition Feeling Perceiving\n",
      "5         INFJ   1685  0.194236      Introversion Intuition Feeling Judging\n",
      "8         INTP   1580  0.182133  Introversion Intuition Thinking Perceiving\n",
      "7         INTJ   1203  0.138674     Introversion Intuition Thinking Judging\n",
      "3         ENTP    592  0.068242  Extroversion Intuition Thinking Perceiving\n",
      "1         ENFP    558  0.064323   Extroversion Intuition Feeling Perceiving\n",
      "12        ISTP    209  0.024092    Introversion Sensing Thinking Perceiving\n",
      "10        ISFP     85  0.009798     Introversion Sensing Feeling Perceiving\n",
      "2         ENTJ     71  0.008184     Extroversion Intuition Thinking Judging\n",
      "11        ISTJ     57  0.006571       Introversion Sensing Thinking Judging\n",
      "9         ISFJ     37  0.004265        Introversion Sensing Feeling Judging\n",
      "0         ENFJ     33  0.003804      Extroversion Intuition Feeling Judging\n",
      "4         ESTP      6  0.000692    Extroversion Sensing Thinking Perceiving\n"
     ]
    }
   ],
   "source": [
    "# Add descriptions\n",
    "pred_df['description'] = pred_df['personality'].apply(lambda x: \" \".join([mbti.get(l, l) for l in x]))\n",
    "\n",
    "# Plotting\n",
    "plt.figure(figsize=(12, 6))\n",
    "sns.barplot(x='personality', y='count', data=pred_df, alpha=0.8)\n",
    "plt.ylabel('No. of occurrences', fontsize=12)\n",
    "plt.xlabel('Personality', fontsize=12)\n",
    "plt.title('Distribution of Predicted Personalities')\n",
    "plt.xticks(rotation=45)\n",
    "plt.show()\n",
    "\n",
    "print(pred_df)"
   ]
  },
  {
   "cell_type": "code",
   "execution_count": null,
   "id": "e78254e3-a97a-444f-bd63-4afa681a5e80",
   "metadata": {},
   "outputs": [],
   "source": []
  }
 ],
 "metadata": {
  "kernelspec": {
   "display_name": "Python 3 (ipykernel)",
   "language": "python",
   "name": "python3"
  },
  "language_info": {
   "codemirror_mode": {
    "name": "ipython",
    "version": 3
   },
   "file_extension": ".py",
   "mimetype": "text/x-python",
   "name": "python",
   "nbconvert_exporter": "python",
   "pygments_lexer": "ipython3",
   "version": "3.11.7"
  }
 },
 "nbformat": 4,
 "nbformat_minor": 5
}
